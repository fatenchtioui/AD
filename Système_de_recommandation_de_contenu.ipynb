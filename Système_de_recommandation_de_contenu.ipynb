{
  "nbformat": 4,
  "nbformat_minor": 0,
  "metadata": {
    "colab": {
      "provenance": [],
      "authorship_tag": "ABX9TyPMscTNE2mCMJLr+MmGqtvW",
      "include_colab_link": true
    },
    "kernelspec": {
      "name": "python3",
      "display_name": "Python 3"
    },
    "language_info": {
      "name": "python"
    }
  },
  "cells": [
    {
      "cell_type": "markdown",
      "metadata": {
        "id": "view-in-github",
        "colab_type": "text"
      },
      "source": [
        "<a href=\"https://colab.research.google.com/github/fatenchtioui/AD/blob/main/Syst%C3%A8me_de_recommandation_de_contenu.ipynb\" target=\"_parent\"><img src=\"https://colab.research.google.com/assets/colab-badge.svg\" alt=\"Open In Colab\"/></a>"
      ]
    },
    {
      "cell_type": "markdown",
      "source": [
        "\n",
        "\n",
        "\n",
        "# Introduction\n",
        "Pour créer un système de recommandation de contenu basé sur les préférences de l'utilisateur en utilisant PySpark avec le MovieLens Dataset, suivez les étapes ci-dessous. Le MovieLens Dataset est généralement utilisé pour les recommandations de films.\n",
        "\n",
        "\n",
        "\n"
      ],
      "metadata": {
        "id": "LnHwfGy7HCY_"
      }
    },
    {
      "cell_type": "markdown",
      "source": [
        "# Étapes principales :"
      ],
      "metadata": {
        "id": "4BcO-uLoHOjC"
      }
    },
    {
      "cell_type": "markdown",
      "source": [
        "## Importez les bibliothèques nécessaires :"
      ],
      "metadata": {
        "id": "DhX-33N0HU9l"
      }
    },
    {
      "cell_type": "code",
      "source": [
        "!pip install pyspark\n"
      ],
      "metadata": {
        "colab": {
          "base_uri": "https://localhost:8080/"
        },
        "id": "wdksDqqKHknb",
        "outputId": "628cc1e8-730d-45b5-d091-a0629d827928"
      },
      "execution_count": null,
      "outputs": [
        {
          "output_type": "stream",
          "name": "stdout",
          "text": [
            "Collecting pyspark\n",
            "  Downloading pyspark-3.5.0.tar.gz (316.9 MB)\n",
            "\u001b[2K     \u001b[90m━━━━━━━━━━━━━━━━━━━━━━━━━━━━━━━━━━━━━━━━\u001b[0m \u001b[32m316.9/316.9 MB\u001b[0m \u001b[31m2.7 MB/s\u001b[0m eta \u001b[36m0:00:00\u001b[0m\n",
            "\u001b[?25h  Preparing metadata (setup.py) ... \u001b[?25l\u001b[?25hdone\n",
            "Requirement already satisfied: py4j==0.10.9.7 in /usr/local/lib/python3.10/dist-packages (from pyspark) (0.10.9.7)\n",
            "Building wheels for collected packages: pyspark\n",
            "  Building wheel for pyspark (setup.py) ... \u001b[?25l\u001b[?25hdone\n",
            "  Created wheel for pyspark: filename=pyspark-3.5.0-py2.py3-none-any.whl size=317425345 sha256=c622a1d8de7cf7efcfca6a142d66501c29dfefcf1125c5b764b983602c164a14\n",
            "  Stored in directory: /root/.cache/pip/wheels/41/4e/10/c2cf2467f71c678cfc8a6b9ac9241e5e44a01940da8fbb17fc\n",
            "Successfully built pyspark\n",
            "Installing collected packages: pyspark\n",
            "Successfully installed pyspark-3.5.0\n"
          ]
        }
      ]
    },
    {
      "cell_type": "code",
      "source": [
        "from pyspark.sql import SparkSession\n",
        "from pyspark.ml.evaluation import RegressionEvaluator\n",
        "from pyspark.ml.recommendation import ALS\n",
        "\n"
      ],
      "metadata": {
        "id": "2L_zxC6wH6ov"
      },
      "execution_count": null,
      "outputs": []
    },
    {
      "cell_type": "markdown",
      "source": [
        "## Créez une session Spark :"
      ],
      "metadata": {
        "id": "8aY9VDfcHfJq"
      }
    },
    {
      "cell_type": "code",
      "source": [
        "spark = SparkSession.builder.appName(\"MovieRecommendation\").getOrCreate()\n"
      ],
      "metadata": {
        "id": "rtFd3yARGlKe"
      },
      "execution_count": null,
      "outputs": []
    },
    {
      "cell_type": "markdown",
      "source": [
        "## Chargez les données MovieLens :"
      ],
      "metadata": {
        "id": "GjxvbeSxHigd"
      }
    },
    {
      "cell_type": "code",
      "source": [
        "from google.colab import drive\n",
        "drive.mount('/content/drive')"
      ],
      "metadata": {
        "colab": {
          "base_uri": "https://localhost:8080/"
        },
        "id": "SYuIr3PW8RoI",
        "outputId": "83a75a2d-633b-4020-f84d-430a896a18d7"
      },
      "execution_count": null,
      "outputs": [
        {
          "output_type": "stream",
          "name": "stdout",
          "text": [
            "Mounted at /content/drive\n"
          ]
        }
      ]
    },
    {
      "cell_type": "code",
      "source": [
        "movies = spark.read.csv(\"/content/drive/MyDrive/Colab Notebooks/P_Spark/movie.csv\", header=True, inferSchema=True)\n",
        "ratings = spark.read.csv(\"/content/drive/MyDrive/Colab Notebooks/P_Spark/rating.csv\", header=True, inferSchema=True)\n"
      ],
      "metadata": {
        "id": "StNlF9pT_YjR"
      },
      "execution_count": null,
      "outputs": []
    },
    {
      "cell_type": "markdown",
      "source": [
        "## Explorez les données"
      ],
      "metadata": {
        "id": "a2OV43MsHr2T"
      }
    },
    {
      "cell_type": "code",
      "source": [
        "movies.show()\n",
        "ratings.show()\n"
      ],
      "metadata": {
        "colab": {
          "base_uri": "https://localhost:8080/"
        },
        "id": "Y75dq6gt_68F",
        "outputId": "6a1502da-5242-4034-f0ce-368ce67fa680"
      },
      "execution_count": null,
      "outputs": [
        {
          "output_type": "stream",
          "name": "stdout",
          "text": [
            "+-------+--------------------+--------------------+\n",
            "|movieId|               title|              genres|\n",
            "+-------+--------------------+--------------------+\n",
            "|      1|    Toy Story (1995)|Adventure|Animati...|\n",
            "|      2|      Jumanji (1995)|Adventure|Childre...|\n",
            "|      3|Grumpier Old Men ...|      Comedy|Romance|\n",
            "|      4|Waiting to Exhale...|Comedy|Drama|Romance|\n",
            "|      5|Father of the Bri...|              Comedy|\n",
            "|      6|         Heat (1995)|Action|Crime|Thri...|\n",
            "|      7|      Sabrina (1995)|      Comedy|Romance|\n",
            "|      8| Tom and Huck (1995)|  Adventure|Children|\n",
            "|      9| Sudden Death (1995)|              Action|\n",
            "|     10|    GoldenEye (1995)|Action|Adventure|...|\n",
            "|     11|American Presiden...|Comedy|Drama|Romance|\n",
            "|     12|Dracula: Dead and...|       Comedy|Horror|\n",
            "|     13|        Balto (1995)|Adventure|Animati...|\n",
            "|     14|        Nixon (1995)|               Drama|\n",
            "|     15|Cutthroat Island ...|Action|Adventure|...|\n",
            "|     16|       Casino (1995)|         Crime|Drama|\n",
            "|     17|Sense and Sensibi...|       Drama|Romance|\n",
            "|     18|   Four Rooms (1995)|              Comedy|\n",
            "|     19|Ace Ventura: When...|              Comedy|\n",
            "|     20|  Money Train (1995)|Action|Comedy|Cri...|\n",
            "+-------+--------------------+--------------------+\n",
            "only showing top 20 rows\n",
            "\n",
            "+------+-------+------+-------------------+\n",
            "|userId|movieId|rating|          timestamp|\n",
            "+------+-------+------+-------------------+\n",
            "|     1|      2|   3.5|2005-04-02 23:53:47|\n",
            "|     1|     29|   3.5|2005-04-02 23:31:16|\n",
            "|     1|     32|   3.5|2005-04-02 23:33:39|\n",
            "|     1|     47|   3.5|2005-04-02 23:32:07|\n",
            "|     1|     50|   3.5|2005-04-02 23:29:40|\n",
            "|     1|    112|   3.5|2004-09-10 03:09:00|\n",
            "|     1|    151|   4.0|2004-09-10 03:08:54|\n",
            "|     1|    223|   4.0|2005-04-02 23:46:13|\n",
            "|     1|    253|   4.0|2005-04-02 23:35:40|\n",
            "|     1|    260|   4.0|2005-04-02 23:33:46|\n",
            "|     1|    293|   4.0|2005-04-02 23:31:43|\n",
            "|     1|    296|   4.0|2005-04-02 23:32:47|\n",
            "|     1|    318|   4.0|2005-04-02 23:33:18|\n",
            "|     1|    337|   3.5|2004-09-10 03:08:29|\n",
            "|     1|    367|   3.5|2005-04-02 23:53:00|\n",
            "|     1|    541|   4.0|2005-04-02 23:30:03|\n",
            "|     1|    589|   3.5|2005-04-02 23:45:57|\n",
            "|     1|    593|   3.5|2005-04-02 23:31:01|\n",
            "|     1|    653|   3.0|2004-09-10 03:08:11|\n",
            "|     1|    919|   3.5|2004-09-10 03:07:01|\n",
            "+------+-------+------+-------------------+\n",
            "only showing top 20 rows\n",
            "\n"
          ]
        }
      ]
    },
    {
      "cell_type": "markdown",
      "source": [
        "## Divisez les données en ensembles d'entraînement et de test :"
      ],
      "metadata": {
        "id": "51q5cXqxHxpa"
      }
    },
    {
      "cell_type": "code",
      "source": [
        "(training, test) = ratings.randomSplit([0.8, 0.2])\n"
      ],
      "metadata": {
        "id": "1raHhp4dANIB"
      },
      "execution_count": null,
      "outputs": []
    },
    {
      "cell_type": "markdown",
      "source": [
        "## Configurez le modèle ALS (Alternating Least Squares) :"
      ],
      "metadata": {
        "id": "hM8JJvquJYUQ"
      }
    },
    {
      "cell_type": "code",
      "source": [
        "\n",
        "als = ALS(\n",
        "    maxIter=5,\n",
        "    regParam=0.01,\n",
        "    userCol=\"userId\",  # Assurez-vous que c'est le bon nom de colonne\n",
        "    itemCol=\"movieId\",\n",
        "    ratingCol=\"rating\",\n",
        "    coldStartStrategy=\"drop\"\n",
        ")\n"
      ],
      "metadata": {
        "id": "ra3FRmDRAUcj"
      },
      "execution_count": null,
      "outputs": []
    },
    {
      "cell_type": "markdown",
      "source": [
        "## Entraînez le modèle sur l'ensemble d'entraînement :"
      ],
      "metadata": {
        "id": "0RZfzmw2JgvS"
      }
    },
    {
      "cell_type": "code",
      "source": [
        "\n",
        "print(training.columns)\n"
      ],
      "metadata": {
        "colab": {
          "base_uri": "https://localhost:8080/"
        },
        "id": "lzA_LxQWIkwE",
        "outputId": "8e081c6a-c4bf-41e4-d71f-2dc17f5e68eb"
      },
      "execution_count": null,
      "outputs": [
        {
          "output_type": "stream",
          "name": "stdout",
          "text": [
            "['userId', 'movieId', 'rating', 'timestamp']\n"
          ]
        }
      ]
    },
    {
      "cell_type": "code",
      "source": [
        "model = als.fit(training)\n"
      ],
      "metadata": {
        "id": "U7S1AxjkAgcS"
      },
      "execution_count": null,
      "outputs": []
    },
    {
      "cell_type": "markdown",
      "source": [
        "## Effectuez des prédictions sur l'ensemble de test :"
      ],
      "metadata": {
        "id": "axg66lpTJqU2"
      }
    },
    {
      "cell_type": "code",
      "source": [
        "predictions = model.transform(test)\n"
      ],
      "metadata": {
        "id": "6km4WLPWA0GC"
      },
      "execution_count": null,
      "outputs": []
    },
    {
      "cell_type": "markdown",
      "source": [
        "## Évaluez les performances du modèle"
      ],
      "metadata": {
        "id": "5yWt3rbUJ52R"
      }
    },
    {
      "cell_type": "code",
      "source": [
        "evaluator = RegressionEvaluator(\n",
        "    metricName=\"rmse\",\n",
        "    labelCol=\"rating\",\n",
        "    predictionCol=\"prediction\"\n",
        ")\n",
        "rmse = evaluator.evaluate(predictions)\n",
        "print(\"Root Mean Squared Error (RMSE) = \" + str(rmse))\n"
      ],
      "metadata": {
        "colab": {
          "base_uri": "https://localhost:8080/"
        },
        "id": "7IhiRiVIA-kN",
        "outputId": "eb5a9720-1aa9-4c4a-c3a8-62f19207b2db"
      },
      "execution_count": null,
      "outputs": [
        {
          "output_type": "stream",
          "name": "stdout",
          "text": [
            "Root Mean Squared Error (RMSE) = 0.8163080191337452\n"
          ]
        }
      ]
    },
    {
      "cell_type": "markdown",
      "source": [
        "## Générez des recommandations pour un utilisateur donné"
      ],
      "metadata": {
        "id": "PoPgBEDTJ93D"
      }
    },
    {
      "cell_type": "code",
      "source": [
        "user_id = 1  # Remplacez par l'ID d'un utilisateur réel\n",
        "user_recommendations = model.recommendForUserSubset(ratings.where(ratings.userId == user_id), 5)\n"
      ],
      "metadata": {
        "id": "qaoZuolxBCHS"
      },
      "execution_count": null,
      "outputs": []
    },
    {
      "cell_type": "markdown",
      "source": [
        "## Affichez les recommandations"
      ],
      "metadata": {
        "id": "hDxxiIjKKFIW"
      }
    },
    {
      "cell_type": "code",
      "source": [
        "user_recommendations.show()\n"
      ],
      "metadata": {
        "colab": {
          "base_uri": "https://localhost:8080/"
        },
        "id": "YpKcM8KUBFp_",
        "outputId": "40bcea48-9e3c-452f-9a32-207d904b05d5"
      },
      "execution_count": null,
      "outputs": [
        {
          "output_type": "stream",
          "name": "stdout",
          "text": [
            "+------+--------------------+\n",
            "|userId|     recommendations|\n",
            "+------+--------------------+\n",
            "|     1|[{92083, 11.92922...|\n",
            "+------+--------------------+\n",
            "\n"
          ]
        }
      ]
    },
    {
      "cell_type": "code",
      "source": [
        "spark.stop()\n"
      ],
      "metadata": {
        "id": "tRXNTzGuIFG3"
      },
      "execution_count": null,
      "outputs": []
    }
  ]
}